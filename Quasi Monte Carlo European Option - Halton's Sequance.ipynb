{
 "cells": [
  {
   "cell_type": "code",
   "execution_count": 1,
   "id": "a55acddc",
   "metadata": {},
   "outputs": [],
   "source": [
    "import numpy as np \n",
    "import pandas as pd\n",
    "import matplotlib.pyplot as plt\n",
    "import seaborn as sns\n",
    "from pandas_datareader import data\n",
    "from datetime import datetime\n",
    "\n",
    "import quandl\n",
    "from scipy import stats\n",
    "from scipy.stats import probplot\n",
    "import math as m\n",
    "import os\n",
    "from scipy.stats import norm\n",
    "\n",
    "from sklearn.preprocessing import StandardScaler, MinMaxScaler\n",
    "from sklearn.model_selection import train_test_split\n",
    "from sklearn.linear_model import LinearRegression\n",
    "from sklearn.tree import DecisionTreeClassifier\n",
    "from sklearn.cluster import KMeans\n",
    "\n",
    "from sklearn.preprocessing import MinMaxScaler\n",
    "from tensorflow.keras.models import Sequential\n",
    "from tensorflow.keras.layers import Dense, Dropout, LSTM\n",
    "from tensorflow.keras.callbacks import ModelCheckpoint, EarlyStopping\n",
    "\n",
    "import plotly.express as px\n",
    "from itertools import product\n",
    "import warnings\n",
    "import statsmodels.api as sm\n",
    "plt.style.use('seaborn-darkgrid')"
   ]
  },
  {
   "cell_type": "code",
   "execution_count": 2,
   "id": "32d17f60",
   "metadata": {},
   "outputs": [],
   "source": [
    "today = datetime(2022,4,1)\n",
    "year_ago = datetime(today.year-1, today.month, today.day)"
   ]
  },
  {
   "cell_type": "code",
   "execution_count": 3,
   "id": "38167cd2",
   "metadata": {},
   "outputs": [],
   "source": [
    "company_list = ['TSLA']"
   ]
  },
  {
   "cell_type": "code",
   "execution_count": 4,
   "id": "95b3492f",
   "metadata": {},
   "outputs": [],
   "source": [
    "for company in company_list:\n",
    "    globals()[company] = data.DataReader(company, 'yahoo', year_ago, today)"
   ]
  },
  {
   "cell_type": "code",
   "execution_count": 5,
   "id": "13a760e3",
   "metadata": {},
   "outputs": [],
   "source": [
    "MA_days = [10, 20, 30]\n",
    "\n",
    "for ma in MA_days:\n",
    "    ma_str = \"MA: {}\".format(ma)\n",
    "    TSLA[ma_str] = TSLA['Adj Close'].rolling(ma).mean()"
   ]
  },
  {
   "cell_type": "code",
   "execution_count": 6,
   "id": "73735aaa",
   "metadata": {},
   "outputs": [
    {
     "data": {
      "text/html": [
       "<div>\n",
       "<style scoped>\n",
       "    .dataframe tbody tr th:only-of-type {\n",
       "        vertical-align: middle;\n",
       "    }\n",
       "\n",
       "    .dataframe tbody tr th {\n",
       "        vertical-align: top;\n",
       "    }\n",
       "\n",
       "    .dataframe thead th {\n",
       "        text-align: right;\n",
       "    }\n",
       "</style>\n",
       "<table border=\"1\" class=\"dataframe\">\n",
       "  <thead>\n",
       "    <tr style=\"text-align: right;\">\n",
       "      <th></th>\n",
       "      <th>High</th>\n",
       "      <th>Low</th>\n",
       "      <th>Open</th>\n",
       "      <th>Close</th>\n",
       "      <th>Volume</th>\n",
       "      <th>Adj Close</th>\n",
       "      <th>MA: 10</th>\n",
       "      <th>MA: 20</th>\n",
       "      <th>MA: 30</th>\n",
       "    </tr>\n",
       "    <tr>\n",
       "      <th>Date</th>\n",
       "      <th></th>\n",
       "      <th></th>\n",
       "      <th></th>\n",
       "      <th></th>\n",
       "      <th></th>\n",
       "      <th></th>\n",
       "      <th></th>\n",
       "      <th></th>\n",
       "      <th></th>\n",
       "    </tr>\n",
       "  </thead>\n",
       "  <tbody>\n",
       "    <tr>\n",
       "      <th>2021-03-31</th>\n",
       "      <td>672.000000</td>\n",
       "      <td>641.109985</td>\n",
       "      <td>646.619995</td>\n",
       "      <td>667.929993</td>\n",
       "      <td>33337300</td>\n",
       "      <td>667.929993</td>\n",
       "      <td>NaN</td>\n",
       "      <td>NaN</td>\n",
       "      <td>NaN</td>\n",
       "    </tr>\n",
       "    <tr>\n",
       "      <th>2021-04-01</th>\n",
       "      <td>692.419983</td>\n",
       "      <td>659.419983</td>\n",
       "      <td>688.369995</td>\n",
       "      <td>661.750000</td>\n",
       "      <td>35298400</td>\n",
       "      <td>661.750000</td>\n",
       "      <td>NaN</td>\n",
       "      <td>NaN</td>\n",
       "      <td>NaN</td>\n",
       "    </tr>\n",
       "    <tr>\n",
       "      <th>2021-04-05</th>\n",
       "      <td>708.159973</td>\n",
       "      <td>684.700012</td>\n",
       "      <td>707.710022</td>\n",
       "      <td>691.049988</td>\n",
       "      <td>41842800</td>\n",
       "      <td>691.049988</td>\n",
       "      <td>NaN</td>\n",
       "      <td>NaN</td>\n",
       "      <td>NaN</td>\n",
       "    </tr>\n",
       "    <tr>\n",
       "      <th>2021-04-06</th>\n",
       "      <td>696.549988</td>\n",
       "      <td>681.369995</td>\n",
       "      <td>690.299988</td>\n",
       "      <td>691.619995</td>\n",
       "      <td>28271800</td>\n",
       "      <td>691.619995</td>\n",
       "      <td>NaN</td>\n",
       "      <td>NaN</td>\n",
       "      <td>NaN</td>\n",
       "    </tr>\n",
       "    <tr>\n",
       "      <th>2021-04-07</th>\n",
       "      <td>691.380005</td>\n",
       "      <td>667.840027</td>\n",
       "      <td>687.000000</td>\n",
       "      <td>670.969971</td>\n",
       "      <td>26309400</td>\n",
       "      <td>670.969971</td>\n",
       "      <td>NaN</td>\n",
       "      <td>NaN</td>\n",
       "      <td>NaN</td>\n",
       "    </tr>\n",
       "  </tbody>\n",
       "</table>\n",
       "</div>"
      ],
      "text/plain": [
       "                  High         Low        Open       Close    Volume  \\\n",
       "Date                                                                   \n",
       "2021-03-31  672.000000  641.109985  646.619995  667.929993  33337300   \n",
       "2021-04-01  692.419983  659.419983  688.369995  661.750000  35298400   \n",
       "2021-04-05  708.159973  684.700012  707.710022  691.049988  41842800   \n",
       "2021-04-06  696.549988  681.369995  690.299988  691.619995  28271800   \n",
       "2021-04-07  691.380005  667.840027  687.000000  670.969971  26309400   \n",
       "\n",
       "             Adj Close  MA: 10  MA: 20  MA: 30  \n",
       "Date                                            \n",
       "2021-03-31  667.929993     NaN     NaN     NaN  \n",
       "2021-04-01  661.750000     NaN     NaN     NaN  \n",
       "2021-04-05  691.049988     NaN     NaN     NaN  \n",
       "2021-04-06  691.619995     NaN     NaN     NaN  \n",
       "2021-04-07  670.969971     NaN     NaN     NaN  "
      ]
     },
     "execution_count": 6,
     "metadata": {},
     "output_type": "execute_result"
    }
   ],
   "source": [
    "TSLA.head()"
   ]
  },
  {
   "cell_type": "code",
   "execution_count": 7,
   "id": "5b0d8c0a",
   "metadata": {},
   "outputs": [],
   "source": [
    "def plot_graphic(company, company_string):\n",
    "    plt.figure(figsize=(15, 6))\n",
    "    plt.plot(company['Adj Close'])\n",
    "    plt.plot(company['MA: 10'])\n",
    "    plt.plot(company['MA: 20'])\n",
    "    plt.plot(company['MA: 30'])\n",
    "    \n",
    "    plt.title(company_string)\n",
    "    plt.xlabel('Date')\n",
    "    plt.ylabel('Price')\n",
    "\n",
    "    plt.legend(('Adj Close','MA: 10', 'MA: 20', 'MA:30'))\n",
    "    plt.grid()\n",
    "    plt.show()"
   ]
  },
  {
   "cell_type": "code",
   "execution_count": 8,
   "id": "0a53374c",
   "metadata": {},
   "outputs": [
    {
     "data": {
      "image/png": "[encoded data removed]",
      "text/plain": [
       "<Figure size 1080x432 with 1 Axes>"
      ]
     },
     "metadata": {},
     "output_type": "display_data"
    }
   ],
   "source": [
    "data_list = [TSLA]\n",
    "\n",
    "for i in range(len(data_list)):   \n",
    "    plot_graphic(data_list[i], company_list[i])"
   ]
  },
  {
   "cell_type": "code",
   "execution_count": 9,
   "id": "34147743",
   "metadata": {},
   "outputs": [
    {
     "name": "stdout",
     "output_type": "stream",
     "text": [
      "<class 'pandas.core.frame.DataFrame'>\n",
      "DatetimeIndex: 255 entries, 2021-03-31 to 2022-04-01\n",
      "Data columns (total 9 columns):\n",
      " #   Column     Non-Null Count  Dtype  \n",
      "---  ------     --------------  -----  \n",
      " 0   High       255 non-null    float64\n",
      " 1   Low        255 non-null    float64\n",
      " 2   Open       255 non-null    float64\n",
      " 3   Close      255 non-null    float64\n",
      " 4   Volume     255 non-null    int64  \n",
      " 5   Adj Close  255 non-null    float64\n",
      " 6   MA: 10     246 non-null    float64\n",
      " 7   MA: 20     236 non-null    float64\n",
      " 8   MA: 30     226 non-null    float64\n",
      "dtypes: float64(8), int64(1)\n",
      "memory usage: 19.9 KB\n"
     ]
    }
   ],
   "source": [
    "TSLA.info()"
   ]
  },
  {
   "cell_type": "code",
   "execution_count": 10,
   "id": "ae9fecc3",
   "metadata": {},
   "outputs": [
    {
     "name": "stdout",
     "output_type": "stream",
     "text": [
      "Dataset Shape:  (255, 9)\n"
     ]
    }
   ],
   "source": [
    "print('Dataset Shape: ',  TSLA.shape)"
   ]
  },
  {
   "cell_type": "code",
   "execution_count": 11,
   "id": "915842c9",
   "metadata": {},
   "outputs": [
    {
     "data": {
      "image/png": "[encoded data removed]",
      "text/plain": [
       "<Figure size 360x360 with 1 Axes>"
      ]
     },
     "metadata": {},
     "output_type": "display_data"
    }
   ],
   "source": [
    "# Calculate returns and draw distribution\n",
    "\n",
    "for i in range(len(data_list)):\n",
    "    data_list[i]['Daily Returns'] = data_list[i]['Adj Close'].pct_change()\n",
    "    sns.displot(data_list[i]['Daily Returns'].dropna(), bins=50, color='blue', kde=True)\n",
    "    plt.title(company_list[i])\n",
    "    plt.show()"
   ]
  },
  {
   "cell_type": "code",
   "execution_count": 12,
   "id": "83ec1447",
   "metadata": {},
   "outputs": [
    {
     "data": {
      "text/html": [
       "<div>\n",
       "<style scoped>\n",
       "    .dataframe tbody tr th:only-of-type {\n",
       "        vertical-align: middle;\n",
       "    }\n",
       "\n",
       "    .dataframe tbody tr th {\n",
       "        vertical-align: top;\n",
       "    }\n",
       "\n",
       "    .dataframe thead th {\n",
       "        text-align: right;\n",
       "    }\n",
       "</style>\n",
       "<table border=\"1\" class=\"dataframe\">\n",
       "  <thead>\n",
       "    <tr style=\"text-align: right;\">\n",
       "      <th></th>\n",
       "      <th>TSLA</th>\n",
       "    </tr>\n",
       "  </thead>\n",
       "  <tbody>\n",
       "    <tr>\n",
       "      <th>250</th>\n",
       "      <td>0.080345</td>\n",
       "    </tr>\n",
       "    <tr>\n",
       "      <th>251</th>\n",
       "      <td>0.007080</td>\n",
       "    </tr>\n",
       "    <tr>\n",
       "      <th>252</th>\n",
       "      <td>-0.005075</td>\n",
       "    </tr>\n",
       "    <tr>\n",
       "      <th>253</th>\n",
       "      <td>-0.014982</td>\n",
       "    </tr>\n",
       "    <tr>\n",
       "      <th>254</th>\n",
       "      <td>0.006487</td>\n",
       "    </tr>\n",
       "  </tbody>\n",
       "</table>\n",
       "</div>"
      ],
      "text/plain": [
       "         TSLA\n",
       "250  0.080345\n",
       "251  0.007080\n",
       "252 -0.005075\n",
       "253 -0.014982\n",
       "254  0.006487"
      ]
     },
     "execution_count": 12,
     "metadata": {},
     "output_type": "execute_result"
    }
   ],
   "source": [
    "# Create dataframe with stock returns\n",
    "stock_returns = pd.DataFrame(data=np.array([data['Daily Returns'] for data in data_list]).T, columns=company_list)\n",
    "stock_returns.tail()"
   ]
  },
  {
   "cell_type": "code",
   "execution_count": 13,
   "id": "66f0b456",
   "metadata": {},
   "outputs": [
    {
     "data": {
      "text/plain": [
       "<seaborn.axisgrid.PairGrid at 0x221c04008b0>"
      ]
     },
     "execution_count": 13,
     "metadata": {},
     "output_type": "execute_result"
    },
    {
     "data": {
      "image/png": "[encoded data removed]",
      "text/plain": [
       "<Figure size 180x180 with 2 Axes>"
      ]
     },
     "metadata": {},
     "output_type": "display_data"
    }
   ],
   "source": [
    "sns.pairplot(stock_returns.dropna())"
   ]
  },
  {
   "cell_type": "code",
   "execution_count": 14,
   "id": "07ace072",
   "metadata": {},
   "outputs": [],
   "source": [
    "def draw_jointplot(data):\n",
    "    grid = sns.PairGrid(data.dropna())\n",
    "    grid.map_diag(sns.histplot, bins=40, kde=True)\n",
    "    grid.map_lower(sns.regplot)\n",
    "    grid.map_upper(sns.kdeplot)"
   ]
  },
  {
   "cell_type": "code",
   "execution_count": 15,
   "id": "aca0314f",
   "metadata": {},
   "outputs": [
    {
     "data": {
      "image/png": "[encoded data removed]",
      "text/plain": [
       "<Figure size 180x180 with 2 Axes>"
      ]
     },
     "metadata": {},
     "output_type": "display_data"
    }
   ],
   "source": [
    "draw_jointplot(stock_returns)"
   ]
  },
  {
   "cell_type": "code",
   "execution_count": 16,
   "id": "cdd93d41",
   "metadata": {},
   "outputs": [
    {
     "name": "stdout",
     "output_type": "stream",
     "text": [
      "TSLA    0.002475\n",
      "dtype: float64\n",
      "         TSLA\n",
      "TSLA  0.00114\n"
     ]
    }
   ],
   "source": [
    "mean_income = stock_returns.mean() # Mean income for each stock\n",
    "cov_returns = stock_returns.cov() # Covariation \n",
    "count = len(stock_returns.columns)\n",
    "print(mean_income, cov_returns, sep='\\n')"
   ]
  },
  {
   "cell_type": "code",
   "execution_count": 17,
   "id": "d4d82023",
   "metadata": {},
   "outputs": [
    {
     "data": {
      "text/html": [
       "<div>\n",
       "<style scoped>\n",
       "    .dataframe tbody tr th:only-of-type {\n",
       "        vertical-align: middle;\n",
       "    }\n",
       "\n",
       "    .dataframe tbody tr th {\n",
       "        vertical-align: top;\n",
       "    }\n",
       "\n",
       "    .dataframe thead th {\n",
       "        text-align: right;\n",
       "    }\n",
       "</style>\n",
       "<table border=\"1\" class=\"dataframe\">\n",
       "  <thead>\n",
       "    <tr style=\"text-align: right;\">\n",
       "      <th></th>\n",
       "      <th>Total Missing Values</th>\n",
       "      <th>Missing %</th>\n",
       "    </tr>\n",
       "  </thead>\n",
       "  <tbody>\n",
       "    <tr>\n",
       "      <th>High</th>\n",
       "      <td>0</td>\n",
       "      <td>0.000000</td>\n",
       "    </tr>\n",
       "    <tr>\n",
       "      <th>Low</th>\n",
       "      <td>0</td>\n",
       "      <td>0.000000</td>\n",
       "    </tr>\n",
       "    <tr>\n",
       "      <th>Open</th>\n",
       "      <td>0</td>\n",
       "      <td>0.000000</td>\n",
       "    </tr>\n",
       "    <tr>\n",
       "      <th>Close</th>\n",
       "      <td>0</td>\n",
       "      <td>0.000000</td>\n",
       "    </tr>\n",
       "    <tr>\n",
       "      <th>Volume</th>\n",
       "      <td>0</td>\n",
       "      <td>0.000000</td>\n",
       "    </tr>\n",
       "    <tr>\n",
       "      <th>Adj Close</th>\n",
       "      <td>0</td>\n",
       "      <td>0.000000</td>\n",
       "    </tr>\n",
       "    <tr>\n",
       "      <th>MA: 10</th>\n",
       "      <td>9</td>\n",
       "      <td>3.529412</td>\n",
       "    </tr>\n",
       "    <tr>\n",
       "      <th>MA: 20</th>\n",
       "      <td>19</td>\n",
       "      <td>7.450980</td>\n",
       "    </tr>\n",
       "    <tr>\n",
       "      <th>MA: 30</th>\n",
       "      <td>29</td>\n",
       "      <td>11.372549</td>\n",
       "    </tr>\n",
       "    <tr>\n",
       "      <th>Daily Returns</th>\n",
       "      <td>1</td>\n",
       "      <td>0.392157</td>\n",
       "    </tr>\n",
       "  </tbody>\n",
       "</table>\n",
       "</div>"
      ],
      "text/plain": [
       "               Total Missing Values  Missing %\n",
       "High                              0   0.000000\n",
       "Low                               0   0.000000\n",
       "Open                              0   0.000000\n",
       "Close                             0   0.000000\n",
       "Volume                            0   0.000000\n",
       "Adj Close                         0   0.000000\n",
       "MA: 10                            9   3.529412\n",
       "MA: 20                           19   7.450980\n",
       "MA: 30                           29  11.372549\n",
       "Daily Returns                     1   0.392157"
      ]
     },
     "execution_count": 17,
     "metadata": {},
     "output_type": "execute_result"
    }
   ],
   "source": [
    "#calculating missing values in the dataset\n",
    "\n",
    "missing_values = TSLA.isnull().sum()\n",
    "missing_per = (missing_values/TSLA.shape[0])*100\n",
    "missing_table = pd.concat([missing_values,missing_per], axis=1, ignore_index=True) \n",
    "missing_table.rename(columns={0:'Total Missing Values',1:'Missing %'}, inplace=True)\n",
    "missing_table"
   ]
  },
  {
   "cell_type": "code",
   "execution_count": 18,
   "id": "e1857e9a",
   "metadata": {},
   "outputs": [],
   "source": [
    "def fill_missing(df):\n",
    "    ### function to impute missing values using interpolation ###\n",
    "    df['Open'] = df['Open'].interpolate()\n",
    "    df['Close'] = df['Close'].interpolate()\n",
    "    df['Adj Close'] = df['Adj Close'].interpolate()\n",
    "\n",
    "    df['Volume'] = df['Volume'].interpolate()\n",
    "    df['High'] = df['High'].interpolate()\n",
    "    df['Low'] = df['Low'].interpolate()\n",
    "\n",
    "    print(df.head())\n",
    "    print(df.isnull().sum())"
   ]
  },
  {
   "cell_type": "code",
   "execution_count": 19,
   "id": "9eb57a15",
   "metadata": {},
   "outputs": [
    {
     "name": "stdout",
     "output_type": "stream",
     "text": [
      "                  High         Low        Open       Close    Volume  \\\n",
      "Date                                                                   \n",
      "2021-03-31  672.000000  641.109985  646.619995  667.929993  33337300   \n",
      "2021-04-01  692.419983  659.419983  688.369995  661.750000  35298400   \n",
      "2021-04-05  708.159973  684.700012  707.710022  691.049988  41842800   \n",
      "2021-04-06  696.549988  681.369995  690.299988  691.619995  28271800   \n",
      "2021-04-07  691.380005  667.840027  687.000000  670.969971  26309400   \n",
      "\n",
      "             Adj Close  MA: 10  MA: 20  MA: 30  Daily Returns  \n",
      "Date                                                           \n",
      "2021-03-31  667.929993     NaN     NaN     NaN            NaN  \n",
      "2021-04-01  661.750000     NaN     NaN     NaN      -0.009252  \n",
      "2021-04-05  691.049988     NaN     NaN     NaN       0.044277  \n",
      "2021-04-06  691.619995     NaN     NaN     NaN       0.000825  \n",
      "2021-04-07  670.969971     NaN     NaN     NaN      -0.029857  \n",
      "High              0\n",
      "Low               0\n",
      "Open              0\n",
      "Close             0\n",
      "Volume            0\n",
      "Adj Close         0\n",
      "MA: 10            9\n",
      "MA: 20           19\n",
      "MA: 30           29\n",
      "Daily Returns     1\n",
      "dtype: int64\n"
     ]
    }
   ],
   "source": [
    "fill_missing(TSLA)"
   ]
  },
  {
   "cell_type": "code",
   "execution_count": 20,
   "id": "453ed22c",
   "metadata": {},
   "outputs": [
    {
     "data": {
      "image/png": "[encoded data removed]",
      "text/plain": [
       "<Figure size 1080x504 with 1 Axes>"
      ]
     },
     "metadata": {},
     "output_type": "display_data"
    }
   ],
   "source": [
    "plt.figure(figsize=(15, 7))\n",
    "plt.plot(TSLA['Adj Close'])\n",
    "plt.xlabel('Date')\n",
    "plt.ylabel('Price')\n",
    "plt.grid()\n",
    "plt.show()"
   ]
  },
  {
   "cell_type": "code",
   "execution_count": 21,
   "id": "cf90ab6b",
   "metadata": {},
   "outputs": [
    {
     "data": {
      "text/html": [
       "<div>\n",
       "<style scoped>\n",
       "    .dataframe tbody tr th:only-of-type {\n",
       "        vertical-align: middle;\n",
       "    }\n",
       "\n",
       "    .dataframe tbody tr th {\n",
       "        vertical-align: top;\n",
       "    }\n",
       "\n",
       "    .dataframe thead th {\n",
       "        text-align: right;\n",
       "    }\n",
       "</style>\n",
       "<table border=\"1\" class=\"dataframe\">\n",
       "  <thead>\n",
       "    <tr style=\"text-align: right;\">\n",
       "      <th></th>\n",
       "      <th>Total Missing Values</th>\n",
       "      <th>Missing %</th>\n",
       "    </tr>\n",
       "  </thead>\n",
       "  <tbody>\n",
       "    <tr>\n",
       "      <th>High</th>\n",
       "      <td>0</td>\n",
       "      <td>0.000000</td>\n",
       "    </tr>\n",
       "    <tr>\n",
       "      <th>Low</th>\n",
       "      <td>0</td>\n",
       "      <td>0.000000</td>\n",
       "    </tr>\n",
       "    <tr>\n",
       "      <th>Open</th>\n",
       "      <td>0</td>\n",
       "      <td>0.000000</td>\n",
       "    </tr>\n",
       "    <tr>\n",
       "      <th>Close</th>\n",
       "      <td>0</td>\n",
       "      <td>0.000000</td>\n",
       "    </tr>\n",
       "    <tr>\n",
       "      <th>Volume</th>\n",
       "      <td>0</td>\n",
       "      <td>0.000000</td>\n",
       "    </tr>\n",
       "    <tr>\n",
       "      <th>Adj Close</th>\n",
       "      <td>0</td>\n",
       "      <td>0.000000</td>\n",
       "    </tr>\n",
       "    <tr>\n",
       "      <th>MA: 10</th>\n",
       "      <td>9</td>\n",
       "      <td>3.529412</td>\n",
       "    </tr>\n",
       "    <tr>\n",
       "      <th>MA: 20</th>\n",
       "      <td>19</td>\n",
       "      <td>7.450980</td>\n",
       "    </tr>\n",
       "    <tr>\n",
       "      <th>MA: 30</th>\n",
       "      <td>29</td>\n",
       "      <td>11.372549</td>\n",
       "    </tr>\n",
       "    <tr>\n",
       "      <th>Daily Returns</th>\n",
       "      <td>1</td>\n",
       "      <td>0.392157</td>\n",
       "    </tr>\n",
       "  </tbody>\n",
       "</table>\n",
       "</div>"
      ],
      "text/plain": [
       "               Total Missing Values  Missing %\n",
       "High                              0   0.000000\n",
       "Low                               0   0.000000\n",
       "Open                              0   0.000000\n",
       "Close                             0   0.000000\n",
       "Volume                            0   0.000000\n",
       "Adj Close                         0   0.000000\n",
       "MA: 10                            9   3.529412\n",
       "MA: 20                           19   7.450980\n",
       "MA: 30                           29  11.372549\n",
       "Daily Returns                     1   0.392157"
      ]
     },
     "execution_count": 21,
     "metadata": {},
     "output_type": "execute_result"
    }
   ],
   "source": [
    "#calculating missing values in the dataset\n",
    "\n",
    "missing_values = TSLA.isnull().sum()\n",
    "missing_per = (missing_values/TSLA.shape[0])*100\n",
    "missing_table = pd.concat([missing_values,missing_per], axis=1, ignore_index=True) \n",
    "missing_table.rename(columns={0:'Total Missing Values',1:'Missing %'}, inplace=True)\n",
    "missing_table"
   ]
  },
  {
   "cell_type": "code",
   "execution_count": 23,
   "id": "7012d70f",
   "metadata": {},
   "outputs": [
    {
     "data": {
      "text/plain": [
       "TSLA    0.00114\n",
       "dtype: float64"
      ]
     },
     "execution_count": 23,
     "metadata": {},
     "output_type": "execute_result"
    }
   ],
   "source": [
    "var = stock_returns.var()\n",
    "var"
   ]
  },
  {
   "cell_type": "code",
   "execution_count": 24,
   "id": "28cebc69",
   "metadata": {},
   "outputs": [
    {
     "data": {
      "text/plain": [
       "0.033764485044763926"
      ]
     },
     "execution_count": 24,
     "metadata": {},
     "output_type": "execute_result"
    }
   ],
   "source": [
    "sigma = (np.sqrt(float(var)))\n",
    "\n",
    "sigma"
   ]
  },
  {
   "cell_type": "code",
   "execution_count": 25,
   "id": "e526f458",
   "metadata": {},
   "outputs": [],
   "source": [
    "S0 = 667.929993 # Stock price\n",
    "K1 = 900 # Strike price\n",
    "T = 1 # Time till expiration (in years)\n",
    "r = 0.0428 # Risk-free interest rate\n",
    "var = stock_returns.var()  \n",
    "sigma = (np.sqrt(float(var))) # Volatility (standard deviation)"
   ]
  },
  {
   "cell_type": "code",
   "execution_count": 26,
   "id": "bd3dcd54",
   "metadata": {},
   "outputs": [],
   "source": [
    "from scipy.stats import qmc\n",
    "sampler = qmc.Halton(d=1, scramble=False)\n",
    "sample = sampler.random(n=100)\n"
   ]
  },
  {
   "cell_type": "code",
   "execution_count": 29,
   "id": "a2eb4db2",
   "metadata": {},
   "outputs": [
    {
     "name": "stdout",
     "output_type": "stream",
     "text": [
      "715.1755705897285\n"
     ]
    }
   ],
   "source": [
    "St = 0\n",
    "for i in range (0,100):\n",
    "    St = S0*np.exp((r-((sigma**2)/2))*T+ sigma*np.sqrt(T)*sample[i][0])\n",
    "print(St)"
   ]
  },
  {
   "cell_type": "code",
   "execution_count": 30,
   "id": "94ce422a",
   "metadata": {},
   "outputs": [
    {
     "name": "stdout",
     "output_type": "stream",
     "text": [
      "0.0\n"
     ]
    }
   ],
   "source": [
    "call = 0\n",
    "\n",
    "for i in range (0,100):\n",
    "    St = S0*np.exp((r-((sigma**2)/2))*T+ sigma*np.sqrt(T)*sample[i][0])\n",
    "    b = max(0,(St-K1))\n",
    "    call += np.exp(-r) * b\n",
    "    \n",
    "    \n",
    "call = call/100\n",
    "print(call)"
   ]
  },
  {
   "cell_type": "code",
   "execution_count": 31,
   "id": "577e73d2",
   "metadata": {},
   "outputs": [
    {
     "name": "stdout",
     "output_type": "stream",
     "text": [
      "183.61065279744707\n"
     ]
    }
   ],
   "source": [
    "put = 0\n",
    "\n",
    "for i in range (0,100):\n",
    "    St = S0*np.exp((r-((sigma**2)/2))*T+ sigma*np.sqrt(T)*sample[i][0])\n",
    "    b = max(0,(K1-St))\n",
    "    put += np.exp(-r) * b\n",
    "    \n",
    "    \n",
    "put = put/100\n",
    "print(put)"
   ]
  },
  {
   "cell_type": "code",
   "execution_count": null,
   "id": "8e0e1d61",
   "metadata": {},
   "outputs": [],
   "source": []
  }
 ],
 "metadata": {
  "kernelspec": {
   "display_name": "Python 3 (ipykernel)",
   "language": "python",
   "name": "python3"
  },
  "language_info": {
   "codemirror_mode": {
    "name": "ipython",
    "version": 3
   },
   "file_extension": ".py",
   "mimetype": "text/x-python",
   "name": "python",
   "nbconvert_exporter": "python",
   "pygments_lexer": "ipython3",
   "version": "3.9.7"
  }
 },
 "nbformat": 4,
 "nbformat_minor": 5
}
